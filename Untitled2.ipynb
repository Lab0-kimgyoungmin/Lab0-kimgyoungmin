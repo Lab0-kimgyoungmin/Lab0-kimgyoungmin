{
  "nbformat": 4,
  "nbformat_minor": 0,
  "metadata": {
    "colab": {
      "name": "Untitled2.ipynb",
      "provenance": [],
      "mount_file_id": "1N3KAAZRsrSaxqiJ6IAtqkef4BnRpWaEn",
      "authorship_tag": "ABX9TyPXucjCeouui/RdQkaxWu1/",
      "include_colab_link": true
    },
    "kernelspec": {
      "name": "python3",
      "display_name": "Python 3"
    },
    "language_info": {
      "name": "python"
    }
  },
  "cells": [
    {
      "cell_type": "markdown",
      "metadata": {
        "id": "view-in-github",
        "colab_type": "text"
      },
      "source": [
        "<a href=\"https://colab.research.google.com/github/Lab0-kimgyoungmin/Lab0-kimgyoungmin/blob/main/Untitled2.ipynb\" target=\"_parent\"><img src=\"https://colab.research.google.com/assets/colab-badge.svg\" alt=\"Open In Colab\"/></a>"
      ]
    },
    {
      "cell_type": "code",
      "source": [
        "import numpy as np\n",
        "import pandas as pd"
      ],
      "metadata": {
        "id": "wko9bDpmQjF5"
      },
      "execution_count": null,
      "outputs": []
    },
    {
      "cell_type": "code",
      "source": [
        "from google.colab import drive\n",
        "drive.mount('/content/gdrive')"
      ],
      "metadata": {
        "id": "I2IzJaqCP6NW",
        "colab": {
          "base_uri": "https://localhost:8080/"
        },
        "outputId": "8bfd42e1-04cb-4b5d-e28e-69d6acc529a9"
      },
      "execution_count": null,
      "outputs": [
        {
          "output_type": "stream",
          "name": "stdout",
          "text": [
            "Drive already mounted at /content/gdrive; to attempt to forcibly remount, call drive.mount(\"/content/gdrive\", force_remount=True).\n"
          ]
        }
      ]
    },
    {
      "cell_type": "code",
      "source": [
        "df = pd.read_excel('/content/gdrive/MyDrive/busan/프언 부산.xlsx')"
      ],
      "metadata": {
        "id": "EhiADhLHP6LS"
      },
      "execution_count": null,
      "outputs": []
    },
    {
      "cell_type": "code",
      "source": [
        "df"
      ],
      "metadata": {
        "colab": {
          "base_uri": "https://localhost:8080/",
          "height": 423
        },
        "id": "faiFLbmKQ5lm",
        "outputId": "9bd12f8b-ff25-42e3-962d-e42d52998321"
      },
      "execution_count": null,
      "outputs": [
        {
          "output_type": "execute_result",
          "data": {
            "text/html": [
              "<div>\n",
              "<style scoped>\n",
              "    .dataframe tbody tr th:only-of-type {\n",
              "        vertical-align: middle;\n",
              "    }\n",
              "\n",
              "    .dataframe tbody tr th {\n",
              "        vertical-align: top;\n",
              "    }\n",
              "\n",
              "    .dataframe thead th {\n",
              "        text-align: right;\n",
              "    }\n",
              "</style>\n",
              "<table border=\"1\" class=\"dataframe\">\n",
              "  <thead>\n",
              "    <tr style=\"text-align: right;\">\n",
              "      <th></th>\n",
              "      <th>지역</th>\n",
              "      <th>망</th>\n",
              "      <th>측정소코드</th>\n",
              "      <th>측정소명</th>\n",
              "      <th>측정일시</th>\n",
              "      <th>SO2</th>\n",
              "      <th>CO</th>\n",
              "      <th>O3</th>\n",
              "      <th>NO2</th>\n",
              "      <th>PM10</th>\n",
              "      <th>PM25</th>\n",
              "      <th>주소</th>\n",
              "    </tr>\n",
              "  </thead>\n",
              "  <tbody>\n",
              "    <tr>\n",
              "      <th>0</th>\n",
              "      <td>부산 중구</td>\n",
              "      <td>도시대기</td>\n",
              "      <td>221112</td>\n",
              "      <td>광복동</td>\n",
              "      <td>2020010101</td>\n",
              "      <td>0.002</td>\n",
              "      <td>0.3</td>\n",
              "      <td>0.026</td>\n",
              "      <td>0.008</td>\n",
              "      <td>8.0</td>\n",
              "      <td>3.0</td>\n",
              "      <td>부산 중구 광복로 55번길 10</td>\n",
              "    </tr>\n",
              "    <tr>\n",
              "      <th>1</th>\n",
              "      <td>부산 중구</td>\n",
              "      <td>도시대기</td>\n",
              "      <td>221112</td>\n",
              "      <td>광복동</td>\n",
              "      <td>2020010102</td>\n",
              "      <td>0.003</td>\n",
              "      <td>0.3</td>\n",
              "      <td>0.026</td>\n",
              "      <td>0.007</td>\n",
              "      <td>14.0</td>\n",
              "      <td>3.0</td>\n",
              "      <td>부산 중구 광복로 55번길 10</td>\n",
              "    </tr>\n",
              "    <tr>\n",
              "      <th>2</th>\n",
              "      <td>부산 중구</td>\n",
              "      <td>도시대기</td>\n",
              "      <td>221112</td>\n",
              "      <td>광복동</td>\n",
              "      <td>2020010103</td>\n",
              "      <td>0.003</td>\n",
              "      <td>0.3</td>\n",
              "      <td>0.027</td>\n",
              "      <td>0.006</td>\n",
              "      <td>10.0</td>\n",
              "      <td>5.0</td>\n",
              "      <td>부산 중구 광복로 55번길 10</td>\n",
              "    </tr>\n",
              "    <tr>\n",
              "      <th>3</th>\n",
              "      <td>부산 중구</td>\n",
              "      <td>도시대기</td>\n",
              "      <td>221112</td>\n",
              "      <td>광복동</td>\n",
              "      <td>2020010104</td>\n",
              "      <td>0.003</td>\n",
              "      <td>0.3</td>\n",
              "      <td>0.028</td>\n",
              "      <td>0.005</td>\n",
              "      <td>9.0</td>\n",
              "      <td>5.0</td>\n",
              "      <td>부산 중구 광복로 55번길 10</td>\n",
              "    </tr>\n",
              "    <tr>\n",
              "      <th>4</th>\n",
              "      <td>부산 중구</td>\n",
              "      <td>도시대기</td>\n",
              "      <td>221112</td>\n",
              "      <td>광복동</td>\n",
              "      <td>2020010105</td>\n",
              "      <td>0.002</td>\n",
              "      <td>0.3</td>\n",
              "      <td>0.028</td>\n",
              "      <td>0.005</td>\n",
              "      <td>17.0</td>\n",
              "      <td>5.0</td>\n",
              "      <td>부산 중구 광복로 55번길 10</td>\n",
              "    </tr>\n",
              "    <tr>\n",
              "      <th>...</th>\n",
              "      <td>...</td>\n",
              "      <td>...</td>\n",
              "      <td>...</td>\n",
              "      <td>...</td>\n",
              "      <td>...</td>\n",
              "      <td>...</td>\n",
              "      <td>...</td>\n",
              "      <td>...</td>\n",
              "      <td>...</td>\n",
              "      <td>...</td>\n",
              "      <td>...</td>\n",
              "      <td>...</td>\n",
              "    </tr>\n",
              "    <tr>\n",
              "      <th>19339</th>\n",
              "      <td>부산 강서구</td>\n",
              "      <td>도로변대기</td>\n",
              "      <td>221902</td>\n",
              "      <td>부산신항</td>\n",
              "      <td>2020013120</td>\n",
              "      <td>0.006</td>\n",
              "      <td>0.4</td>\n",
              "      <td>0.009</td>\n",
              "      <td>0.053</td>\n",
              "      <td>37.0</td>\n",
              "      <td>24.0</td>\n",
              "      <td>부산 강서구 신항남로 416</td>\n",
              "    </tr>\n",
              "    <tr>\n",
              "      <th>19340</th>\n",
              "      <td>부산 강서구</td>\n",
              "      <td>도로변대기</td>\n",
              "      <td>221902</td>\n",
              "      <td>부산신항</td>\n",
              "      <td>2020013121</td>\n",
              "      <td>0.011</td>\n",
              "      <td>0.5</td>\n",
              "      <td>0.002</td>\n",
              "      <td>0.069</td>\n",
              "      <td>39.0</td>\n",
              "      <td>26.0</td>\n",
              "      <td>부산 강서구 신항남로 416</td>\n",
              "    </tr>\n",
              "    <tr>\n",
              "      <th>19341</th>\n",
              "      <td>부산 강서구</td>\n",
              "      <td>도로변대기</td>\n",
              "      <td>221902</td>\n",
              "      <td>부산신항</td>\n",
              "      <td>2020013122</td>\n",
              "      <td>0.009</td>\n",
              "      <td>0.5</td>\n",
              "      <td>0.003</td>\n",
              "      <td>0.067</td>\n",
              "      <td>46.0</td>\n",
              "      <td>33.0</td>\n",
              "      <td>부산 강서구 신항남로 416</td>\n",
              "    </tr>\n",
              "    <tr>\n",
              "      <th>19342</th>\n",
              "      <td>부산 강서구</td>\n",
              "      <td>도로변대기</td>\n",
              "      <td>221902</td>\n",
              "      <td>부산신항</td>\n",
              "      <td>2020013123</td>\n",
              "      <td>0.006</td>\n",
              "      <td>0.6</td>\n",
              "      <td>0.002</td>\n",
              "      <td>0.073</td>\n",
              "      <td>45.0</td>\n",
              "      <td>29.0</td>\n",
              "      <td>부산 강서구 신항남로 416</td>\n",
              "    </tr>\n",
              "    <tr>\n",
              "      <th>19343</th>\n",
              "      <td>부산 강서구</td>\n",
              "      <td>도로변대기</td>\n",
              "      <td>221902</td>\n",
              "      <td>부산신항</td>\n",
              "      <td>2020013124</td>\n",
              "      <td>0.004</td>\n",
              "      <td>0.5</td>\n",
              "      <td>0.004</td>\n",
              "      <td>0.057</td>\n",
              "      <td>49.0</td>\n",
              "      <td>35.0</td>\n",
              "      <td>부산 강서구 신항남로 416</td>\n",
              "    </tr>\n",
              "  </tbody>\n",
              "</table>\n",
              "<p>19344 rows × 12 columns</p>\n",
              "</div>"
            ],
            "text/plain": [
              "           지역      망   측정소코드  측정소명  ...    NO2  PM10  PM25                 주소\n",
              "0       부산 중구   도시대기  221112   광복동  ...  0.008   8.0   3.0  부산 중구 광복로 55번길 10\n",
              "1       부산 중구   도시대기  221112   광복동  ...  0.007  14.0   3.0  부산 중구 광복로 55번길 10\n",
              "2       부산 중구   도시대기  221112   광복동  ...  0.006  10.0   5.0  부산 중구 광복로 55번길 10\n",
              "3       부산 중구   도시대기  221112   광복동  ...  0.005   9.0   5.0  부산 중구 광복로 55번길 10\n",
              "4       부산 중구   도시대기  221112   광복동  ...  0.005  17.0   5.0  부산 중구 광복로 55번길 10\n",
              "...       ...    ...     ...   ...  ...    ...   ...   ...                ...\n",
              "19339  부산 강서구  도로변대기  221902  부산신항  ...  0.053  37.0  24.0    부산 강서구 신항남로 416\n",
              "19340  부산 강서구  도로변대기  221902  부산신항  ...  0.069  39.0  26.0    부산 강서구 신항남로 416\n",
              "19341  부산 강서구  도로변대기  221902  부산신항  ...  0.067  46.0  33.0    부산 강서구 신항남로 416\n",
              "19342  부산 강서구  도로변대기  221902  부산신항  ...  0.073  45.0  29.0    부산 강서구 신항남로 416\n",
              "19343  부산 강서구  도로변대기  221902  부산신항  ...  0.057  49.0  35.0    부산 강서구 신항남로 416\n",
              "\n",
              "[19344 rows x 12 columns]"
            ]
          },
          "metadata": {},
          "execution_count": 23
        }
      ]
    },
    {
      "cell_type": "code",
      "source": [
        ""
      ],
      "metadata": {
        "id": "htd6LmKHP6I2"
      },
      "execution_count": null,
      "outputs": []
    },
    {
      "cell_type": "code",
      "source": [
        ""
      ],
      "metadata": {
        "id": "dFY4W5IvP6HC"
      },
      "execution_count": null,
      "outputs": []
    },
    {
      "cell_type": "code",
      "source": [
        ""
      ],
      "metadata": {
        "id": "NmOP1zbKP6D6"
      },
      "execution_count": null,
      "outputs": []
    },
    {
      "cell_type": "code",
      "source": [
        ""
      ],
      "metadata": {
        "id": "WkhuY7huP6BW"
      },
      "execution_count": null,
      "outputs": []
    },
    {
      "cell_type": "code",
      "source": [
        ""
      ],
      "metadata": {
        "id": "6mcWn4nFP5-l"
      },
      "execution_count": null,
      "outputs": []
    },
    {
      "cell_type": "code",
      "source": [
        ""
      ],
      "metadata": {
        "id": "2lq1eTySP58P"
      },
      "execution_count": null,
      "outputs": []
    },
    {
      "cell_type": "code",
      "source": [
        ""
      ],
      "metadata": {
        "id": "DEUu-DyhP55p"
      },
      "execution_count": null,
      "outputs": []
    },
    {
      "cell_type": "code",
      "execution_count": null,
      "metadata": {
        "id": "G8GTlChQOPDv"
      },
      "outputs": [],
      "source": [
        ""
      ]
    }
  ]
}