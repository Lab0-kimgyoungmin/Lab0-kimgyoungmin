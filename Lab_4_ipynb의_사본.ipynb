{
  "nbformat": 4,
  "nbformat_minor": 5,
  "metadata": {
    "kernelspec": {
      "display_name": "Python 3",
      "language": "python",
      "name": "python3"
    },
    "language_info": {
      "codemirror_mode": {
        "name": "ipython",
        "version": 3
      },
      "file_extension": ".py",
      "mimetype": "text/x-python",
      "name": "python",
      "nbconvert_exporter": "python",
      "pygments_lexer": "ipython3",
      "version": "3.7.11"
    },
    "colab": {
      "name": "Lab 4.ipynb의 사본",
      "provenance": [],
      "include_colab_link": true
    }
  },
  "cells": [
    {
      "cell_type": "markdown",
      "metadata": {
        "id": "view-in-github",
        "colab_type": "text"
      },
      "source": [
        "<a href=\"https://colab.research.google.com/github/Lab0-kimgyoungmin/Lab0-kimgyoungmin/blob/main/Lab_4_ipynb%EC%9D%98_%EC%82%AC%EB%B3%B8.ipynb\" target=\"_parent\"><img src=\"https://colab.research.google.com/assets/colab-badge.svg\" alt=\"Open In Colab\"/></a>"
      ]
    },
    {
      "cell_type": "markdown",
      "metadata": {
        "deletable": false,
        "editable": false,
        "nbgrader": {
          "cell_type": "markdown",
          "checksum": "1d52adc034f1aff2112e7e5dc765f941",
          "grade": false,
          "grade_id": "cell-87f50cc21b044ca6",
          "locked": true,
          "schema_version": 3,
          "solution": false,
          "task": false
        },
        "id": "2e5bbf23"
      },
      "source": [
        "# Laboratory #4\n",
        "\n",
        "* This is an introductory exercise for you to learn about Python basics 2.\n",
        "\n",
        "* Each question has a value of 1 point\n",
        "\n",
        "* For this laboratory, please answer in the same code cell after the comment `# YOUR CODE HERE` in their respective question\n",
        "\n",
        "* Do not rename the notebook.\n"
      ],
      "id": "2e5bbf23"
    },
    {
      "cell_type": "markdown",
      "metadata": {
        "deletable": false,
        "editable": false,
        "nbgrader": {
          "cell_type": "markdown",
          "checksum": "083cc8bb328735fdc97bf2709af6aa9a",
          "grade": false,
          "grade_id": "cell-aa6013d65432dadd",
          "locked": true,
          "schema_version": 3,
          "solution": false,
          "task": false
        },
        "id": "8353b2c0"
      },
      "source": [
        "* Name:\n",
        "* Student ID:\n",
        "\n",
        "Answer the questions or complete the tasks below, use the specific method described if applicable."
      ],
      "id": "8353b2c0"
    },
    {
      "cell_type": "markdown",
      "metadata": {
        "deletable": false,
        "editable": false,
        "nbgrader": {
          "cell_type": "markdown",
          "checksum": "7a47ac09f5dd1c5da8fd9b742ec1fb96",
          "grade": false,
          "grade_id": "cell-9f2130bfe1b4e184",
          "locked": true,
          "schema_version": 3,
          "solution": false,
          "task": false
        },
        "id": "471528b8"
      },
      "source": [
        "**Question 1:** \n",
        "* Print each fruit in a fruit list:\n",
        "* fruits = [\"apple\", \"banana\", \"cherry\"]\n"
      ],
      "id": "471528b8"
    },
    {
      "cell_type": "code",
      "metadata": {
        "deletable": false,
        "nbgrader": {
          "cell_type": "code",
          "checksum": "7f247eebaae2b17c3e69f5c318ed70e5",
          "grade": false,
          "grade_id": "cell-566ed0f75c736f36",
          "locked": false,
          "schema_version": 3,
          "solution": true,
          "task": false
        },
        "id": "aae9418a",
        "colab": {
          "base_uri": "https://localhost:8080/"
        },
        "outputId": "0163a0f7-8a5c-4d69-8471-6a8e1af482d0"
      },
      "source": [
        "# YOUR CODE HERE\n",
        "for i in [\"apple\", \"banana\", \"cherry\"]:\n",
        "  print(i)\n"
      ],
      "id": "aae9418a",
      "execution_count": null,
      "outputs": [
        {
          "output_type": "stream",
          "name": "stdout",
          "text": [
            "apple\n",
            "banana\n",
            "cherry\n"
          ]
        }
      ]
    },
    {
      "cell_type": "code",
      "metadata": {
        "deletable": false,
        "editable": false,
        "nbgrader": {
          "cell_type": "code",
          "checksum": "cfa1b830cef2b680ef8c2ff08908fd90",
          "grade": true,
          "grade_id": "cell-8de3d20fff28f7ad",
          "locked": true,
          "points": 1,
          "schema_version": 3,
          "solution": false,
          "task": false
        },
        "id": "703cc4d5"
      },
      "source": [
        ""
      ],
      "id": "703cc4d5",
      "execution_count": null,
      "outputs": []
    },
    {
      "cell_type": "markdown",
      "metadata": {
        "deletable": false,
        "editable": false,
        "nbgrader": {
          "cell_type": "markdown",
          "checksum": "04a2070c9b5c68ab0ec3a53c8f182c39",
          "grade": false,
          "grade_id": "cell-68a5529f4e51326f",
          "locked": true,
          "schema_version": 3,
          "solution": false,
          "task": false
        },
        "id": "b0a91fb2"
      },
      "source": [
        "**Question 2:** \n",
        "\n",
        "* Create the function `userGet()` that grabs the user id from an email address from a string in the form:\n",
        "\n",
        "* user@domain.com\n",
        "\n",
        "* So for example, passing \"user@domain.com\" would return: user\n",
        "\n",
        "* Create the function with one string as parameter.\n"
      ],
      "id": "b0a91fb2"
    },
    {
      "cell_type": "code",
      "metadata": {
        "deletable": false,
        "nbgrader": {
          "cell_type": "code",
          "checksum": "e4cbb00e30676594b10b6e3f5078f3a8",
          "grade": false,
          "grade_id": "cell-26825bd6b4582077",
          "locked": false,
          "schema_version": 3,
          "solution": true,
          "task": false
        },
        "id": "d24afc59",
        "colab": {
          "base_uri": "https://localhost:8080/"
        },
        "outputId": "b5bdda53-3aac-4837-d21b-bb3a986228b2"
      },
      "source": [
        "# YOUR CODE HERE\n",
        "def str_list(parmam1 = \"user@domain.com\" ):\n",
        "  str_list = []\n",
        "  return user\n",
        "\n",
        "str_list(\"user\")\n"
      ],
      "id": "d24afc59",
      "execution_count": 5,
      "outputs": [
        {
          "output_type": "execute_result",
          "data": {
            "text/plain": [
              "<function __main__.user>"
            ]
          },
          "metadata": {},
          "execution_count": 5
        }
      ]
    },
    {
      "cell_type": "code",
      "metadata": {
        "deletable": false,
        "editable": false,
        "nbgrader": {
          "cell_type": "code",
          "checksum": "ce61d2780b1368700d397229108beefd",
          "grade": true,
          "grade_id": "cell-9ca137af0dec1b3b",
          "locked": true,
          "points": 1,
          "schema_version": 3,
          "solution": false,
          "task": false
        },
        "id": "f8572ff0"
      },
      "source": [
        ""
      ],
      "id": "f8572ff0",
      "execution_count": null,
      "outputs": []
    },
    {
      "cell_type": "markdown",
      "metadata": {
        "deletable": false,
        "editable": false,
        "nbgrader": {
          "cell_type": "markdown",
          "checksum": "9b6d4475607a9413705985e807c59e28",
          "grade": false,
          "grade_id": "cell-c5003f5919074432",
          "locked": true,
          "schema_version": 3,
          "solution": false,
          "task": false
        },
        "id": "19c7ef44"
      },
      "source": [
        "**Question 3:** \n",
        "\n",
        "* Create the function `greetings()` without parameters that displays and returns the `Hello World!`"
      ],
      "id": "19c7ef44"
    },
    {
      "cell_type": "code",
      "metadata": {
        "deletable": false,
        "nbgrader": {
          "cell_type": "code",
          "checksum": "a9d5a26f1738999ecaff83bdb67c91dc",
          "grade": false,
          "grade_id": "cell-95dacacfc40fcdfa",
          "locked": false,
          "schema_version": 3,
          "solution": true,
          "task": false
        },
        "id": "a961b572",
        "colab": {
          "base_uri": "https://localhost:8080/"
        },
        "outputId": "13115bb2-9c47-41cc-86cc-c46280af929b"
      },
      "source": [
        "# YOUR CODE HERE\n",
        "def greetings():\n",
        "  return 'Hello World!'\n",
        "print(greetings())"
      ],
      "id": "a961b572",
      "execution_count": 21,
      "outputs": [
        {
          "output_type": "stream",
          "name": "stdout",
          "text": [
            "Hello World!\n"
          ]
        }
      ]
    },
    {
      "cell_type": "code",
      "metadata": {
        "deletable": false,
        "editable": false,
        "nbgrader": {
          "cell_type": "code",
          "checksum": "e6a679a7702488d16f693c23c67a00e3",
          "grade": true,
          "grade_id": "cell-475349101319c09f",
          "locked": true,
          "points": 1,
          "schema_version": 3,
          "solution": false,
          "task": false
        },
        "id": "e98a54c9"
      },
      "source": [
        ""
      ],
      "id": "e98a54c9",
      "execution_count": null,
      "outputs": []
    },
    {
      "cell_type": "markdown",
      "metadata": {
        "deletable": false,
        "editable": false,
        "nbgrader": {
          "cell_type": "markdown",
          "checksum": "0f9065dfd6a216710595b132078a1343",
          "grade": false,
          "grade_id": "cell-b3f9f8948f0dbc88",
          "locked": true,
          "schema_version": 3,
          "solution": false,
          "task": false
        },
        "id": "f58bfd23"
      },
      "source": [
        "**Question 4:** \n",
        "\n",
        "* Create the function `add2num()` that receives two numbers as parameters.\n",
        "\n",
        "* The program have to calculate the sum of the two numbers submitted as parameters. \n",
        "\n",
        "* So for example, passing 1 + 1 would return: 2;  1.5 + 1 = 2.5\n",
        "\n",
        "* If one variable is a string have to return only the numeric parameter \n",
        "\n",
        "* So for example, passing \"23bottles\" + 2 would return: 2; 2 + \"23bottles\" -> 2; \"23bottles\" + \"23bottles\" -> 0  \n"
      ],
      "id": "f58bfd23"
    },
    {
      "cell_type": "code",
      "metadata": {
        "deletable": false,
        "nbgrader": {
          "cell_type": "code",
          "checksum": "816997f1a9bc69d3df25f53830f2ec1c",
          "grade": false,
          "grade_id": "cell-f8eda16267192adc",
          "locked": false,
          "schema_version": 3,
          "solution": true,
          "task": false
        },
        "id": "4cb6d94d"
      },
      "source": [
        "# YOUR CODE HERE\n"
      ],
      "id": "4cb6d94d",
      "execution_count": null,
      "outputs": []
    },
    {
      "cell_type": "code",
      "metadata": {
        "deletable": false,
        "editable": false,
        "nbgrader": {
          "cell_type": "code",
          "checksum": "ad3b0947a8ea8723ea2243a47385254b",
          "grade": true,
          "grade_id": "cell-ef33368b83bc4a1c",
          "locked": true,
          "points": 1,
          "schema_version": 3,
          "solution": false,
          "task": false
        },
        "id": "163de575"
      },
      "source": [
        ""
      ],
      "id": "163de575",
      "execution_count": null,
      "outputs": []
    },
    {
      "cell_type": "markdown",
      "metadata": {
        "deletable": false,
        "editable": false,
        "nbgrader": {
          "cell_type": "markdown",
          "checksum": "f86654bd5e0f41d7dc68f78525eff1bc",
          "grade": false,
          "grade_id": "cell-8656d199ae9737f9",
          "locked": true,
          "schema_version": 3,
          "solution": false,
          "task": false
        },
        "id": "280a06c3"
      },
      "source": [
        "**Question 5:** \n",
        "* Create the function `checkTemp()` that receives one number as parameter.\n",
        "* Write a program that has a parameter called temperature and returns \"It is Hot!\" if temperature is over 17 and \"It is cold!\" if is less than 17. \n",
        "\n"
      ],
      "id": "280a06c3"
    },
    {
      "cell_type": "code",
      "metadata": {
        "deletable": false,
        "nbgrader": {
          "cell_type": "code",
          "checksum": "9fa64c567196d81ac8dad671a884712f",
          "grade": false,
          "grade_id": "cell-8f54cfba42babdb8",
          "locked": false,
          "schema_version": 3,
          "solution": true,
          "task": false
        },
        "id": "e8fb4fd5"
      },
      "source": [
        "# YOUR CODE HERE\n",
        "def checkTemp(param1 = 'temperature'):\n",
        "  i = 0\n",
        "  while i > 17:\n",
        "    print(\"It is Hot!\". i)\n",
        "    i = i + 1 \n",
        "  else:\n",
        "    print(\"It is cold!\".i)\n",
        "    i = i + 1\n"
      ],
      "id": "e8fb4fd5",
      "execution_count": 95,
      "outputs": []
    },
    {
      "cell_type": "code",
      "metadata": {
        "deletable": false,
        "editable": false,
        "nbgrader": {
          "cell_type": "code",
          "checksum": "c6652d00906174d255cb7537b31d5343",
          "grade": true,
          "grade_id": "cell-2aafb9805d52d6cb",
          "locked": true,
          "points": 1,
          "schema_version": 3,
          "solution": false,
          "task": false
        },
        "id": "f242f830"
      },
      "source": [
        ""
      ],
      "id": "f242f830",
      "execution_count": null,
      "outputs": []
    },
    {
      "cell_type": "markdown",
      "metadata": {
        "deletable": false,
        "editable": false,
        "nbgrader": {
          "cell_type": "markdown",
          "checksum": "435c9a9b2d04530ae51ee747f619f8a5",
          "grade": false,
          "grade_id": "cell-45c96d60ba16c22e",
          "locked": true,
          "schema_version": 3,
          "solution": false,
          "task": false
        },
        "id": "678f0177"
      },
      "source": [
        "**Question 6:** \n",
        "* Create the function `findWeather()` with one parameter. It have to return True if the word 'weather' is contained in the input string. ('weather' or 'Weather')\n"
      ],
      "id": "678f0177"
    },
    {
      "cell_type": "code",
      "metadata": {
        "deletable": false,
        "nbgrader": {
          "cell_type": "code",
          "checksum": "1368393aca287665b974622b1fbfbbed",
          "grade": false,
          "grade_id": "cell-54ee4a478892c2eb",
          "locked": false,
          "schema_version": 3,
          "solution": true,
          "task": false
        },
        "id": "d9e3f43d"
      },
      "source": [
        "# YOUR CODE HERE\n",
        "def findWeather():\n",
        "  if 'weather'"
      ],
      "id": "d9e3f43d",
      "execution_count": null,
      "outputs": []
    },
    {
      "cell_type": "code",
      "metadata": {
        "deletable": false,
        "editable": false,
        "nbgrader": {
          "cell_type": "code",
          "checksum": "959f42b13c8308b859f33a55cb5c0ef2",
          "grade": true,
          "grade_id": "cell-1d6048d40c22207f",
          "locked": true,
          "points": 1,
          "schema_version": 3,
          "solution": false,
          "task": false
        },
        "id": "b80102d1"
      },
      "source": [
        ""
      ],
      "id": "b80102d1",
      "execution_count": null,
      "outputs": []
    },
    {
      "cell_type": "markdown",
      "metadata": {
        "deletable": false,
        "editable": false,
        "nbgrader": {
          "cell_type": "markdown",
          "checksum": "d75bb8bcba92879ac1e18cba844085a8",
          "grade": false,
          "grade_id": "cell-9fd018728f79dbe4",
          "locked": true,
          "schema_version": 3,
          "solution": false,
          "task": false
        },
        "id": "c73d6d9a"
      },
      "source": [
        "**Question 7:** \n",
        "* Create a function `countWeather()` with one parameter that counts the number of times the word \"weather\" occurs in a string. Ignore edge cases.\n",
        "\n",
        " "
      ],
      "id": "c73d6d9a"
    },
    {
      "cell_type": "code",
      "metadata": {
        "deletable": false,
        "nbgrader": {
          "cell_type": "code",
          "checksum": "e78d070ddb69c0722afd85b1eb148746",
          "grade": false,
          "grade_id": "cell-a9d65c46f0e23567",
          "locked": false,
          "schema_version": 3,
          "solution": true,
          "task": false
        },
        "id": "3661b735"
      },
      "source": [
        "# YOUR CODE HERE\n"
      ],
      "id": "3661b735",
      "execution_count": null,
      "outputs": []
    },
    {
      "cell_type": "code",
      "metadata": {
        "deletable": false,
        "editable": false,
        "nbgrader": {
          "cell_type": "code",
          "checksum": "3ae0aa00001df7a713b2e1709792700f",
          "grade": true,
          "grade_id": "cell-4012f39779e60886",
          "locked": true,
          "points": 1,
          "schema_version": 3,
          "solution": false,
          "task": false
        },
        "id": "689c3917"
      },
      "source": [
        ""
      ],
      "id": "689c3917",
      "execution_count": null,
      "outputs": []
    },
    {
      "cell_type": "markdown",
      "metadata": {
        "deletable": false,
        "editable": false,
        "nbgrader": {
          "cell_type": "markdown",
          "checksum": "e06d0b7e7802105a7f56bafe8158eb13",
          "grade": false,
          "grade_id": "cell-c9c55fc20233b33b",
          "locked": true,
          "schema_version": 3,
          "solution": false,
          "task": false
        },
        "id": "bfc09e37"
      },
      "source": [
        "**Question 8:** \n",
        "* Create the function squareRoot() that receives one number as parameter.\n",
        "* Write a program that finds the square root of a number. Only for positive real numbers."
      ],
      "id": "bfc09e37"
    },
    {
      "cell_type": "code",
      "metadata": {
        "deletable": false,
        "nbgrader": {
          "cell_type": "code",
          "checksum": "cbccbd121c7c192b31300d0599b6f075",
          "grade": false,
          "grade_id": "cell-56c726745bff8aa7",
          "locked": false,
          "schema_version": 3,
          "solution": true,
          "task": false
        },
        "id": "019abf4e",
        "colab": {
          "base_uri": "https://localhost:8080/"
        },
        "outputId": "7e8a372c-7904-479b-c24f-45c09f3ab212"
      },
      "source": [
        "# YOUR CODE HERE\n",
        "def sqaureroot( n = 1):\n",
        "  return n ** (1/2)\n",
        "\n",
        "sqaureroot( 16)  "
      ],
      "id": "019abf4e",
      "execution_count": 8,
      "outputs": [
        {
          "output_type": "execute_result",
          "data": {
            "text/plain": [
              "4.0"
            ]
          },
          "metadata": {},
          "execution_count": 8
        }
      ]
    },
    {
      "cell_type": "code",
      "metadata": {
        "deletable": false,
        "editable": false,
        "nbgrader": {
          "cell_type": "code",
          "checksum": "d31711e55488df4227785ebd8cfd07d6",
          "grade": true,
          "grade_id": "cell-6df1c46d27b1c830",
          "locked": true,
          "points": 1,
          "schema_version": 3,
          "solution": false,
          "task": false
        },
        "id": "197d1193"
      },
      "source": [
        ""
      ],
      "id": "197d1193",
      "execution_count": null,
      "outputs": []
    },
    {
      "cell_type": "markdown",
      "metadata": {
        "deletable": false,
        "editable": false,
        "nbgrader": {
          "cell_type": "markdown",
          "checksum": "0c483ff1ebbd08977b1f73868a99ae66",
          "grade": false,
          "grade_id": "cell-a9b0cbc43f31e20b",
          "locked": true,
          "schema_version": 3,
          "solution": false,
          "task": false
        },
        "id": "a0e78ca9"
      },
      "source": [
        "**Question 9:** \n",
        "* Create the function areaTri() that receives three numbers as parameters.\n",
        "* Write a program that finds area of a triangle.\n",
        "\n",
        "Tip:\n",
        "\n",
        "`semi_perimeter = (a+b+c)/2`\n",
        "\n",
        "`area = √(semi_perimeter(semi_perimeter-a)*(semi_perimeter-b)*(semi_perimeter-c))`"
      ],
      "id": "a0e78ca9"
    },
    {
      "cell_type": "code",
      "metadata": {
        "deletable": false,
        "nbgrader": {
          "cell_type": "code",
          "checksum": "16d6d3d5c630e9c488f861c0fb0c56ef",
          "grade": false,
          "grade_id": "cell-b135400fbc28f152",
          "locked": false,
          "schema_version": 3,
          "solution": true,
          "task": false
        },
        "id": "97c5230b"
      },
      "source": [
        "# YOUR CODE HERE\n",
        "\n"
      ],
      "id": "97c5230b",
      "execution_count": null,
      "outputs": []
    },
    {
      "cell_type": "code",
      "metadata": {
        "deletable": false,
        "editable": false,
        "nbgrader": {
          "cell_type": "code",
          "checksum": "55ea41185d997442fda9943c115c2356",
          "grade": true,
          "grade_id": "cell-9bcbcbbca25fc7c0",
          "locked": true,
          "points": 1,
          "schema_version": 3,
          "solution": false,
          "task": false
        },
        "id": "74b90aa9"
      },
      "source": [
        ""
      ],
      "id": "74b90aa9",
      "execution_count": null,
      "outputs": []
    },
    {
      "cell_type": "markdown",
      "metadata": {
        "deletable": false,
        "editable": false,
        "nbgrader": {
          "cell_type": "markdown",
          "checksum": "73b20d3c95cfc18e9183ab84d1109e17",
          "grade": false,
          "grade_id": "cell-1b0f90a582a2664c",
          "locked": true,
          "schema_version": 3,
          "solution": false,
          "task": false
        },
        "id": "278a9d81"
      },
      "source": [
        "**Question 10:** \n",
        "* Write a Python function `string_reverse()` with one parameter that reverse a string\n",
        "\n",
        "* s = '1234567890Abcdefghijk' \n",
        "\n",
        "* should be shown:\n",
        "\n",
        "* 'kjihgfedcbA0987654321'\n",
        "\n"
      ],
      "id": "278a9d81"
    },
    {
      "cell_type": "code",
      "metadata": {
        "deletable": false,
        "nbgrader": {
          "cell_type": "code",
          "checksum": "bcac9a92aced86b2f90d79f57bdbed6a",
          "grade": false,
          "grade_id": "cell-571021f5b1d6b48e",
          "locked": false,
          "schema_version": 3,
          "solution": true,
          "task": false
        },
        "id": "50752a3b",
        "colab": {
          "base_uri": "https://localhost:8080/"
        },
        "outputId": "565039e9-9a6e-4363-8831-ac923bbd111b"
      },
      "source": [
        "# YOUR CODE HERE\n",
        "def reverse(s):\n",
        "    result = \"\"\n",
        "    for i in range(0, len(s)):\n",
        "        result = str(s[i]) + result\n",
        "    return result\n",
        "\n",
        "print( reverse('1234567890Abcdefghijk') )"
      ],
      "id": "50752a3b",
      "execution_count": 12,
      "outputs": [
        {
          "output_type": "stream",
          "name": "stdout",
          "text": [
            "kjihgfedcbA0987654321\n"
          ]
        }
      ]
    },
    {
      "cell_type": "code",
      "metadata": {
        "deletable": false,
        "editable": false,
        "nbgrader": {
          "cell_type": "code",
          "checksum": "442e7d1449e9910262c75bf74d39a4e3",
          "grade": true,
          "grade_id": "cell-78150ab3b4c7ef37",
          "locked": true,
          "points": 1,
          "schema_version": 3,
          "solution": false,
          "task": false
        },
        "id": "755cd861"
      },
      "source": [
        ""
      ],
      "id": "755cd861",
      "execution_count": null,
      "outputs": []
    },
    {
      "cell_type": "markdown",
      "metadata": {
        "deletable": false,
        "editable": false,
        "nbgrader": {
          "cell_type": "markdown",
          "checksum": "095d5a68e9e7ea6c3fb43d7e0275d2b4",
          "grade": false,
          "grade_id": "cell-c02571d4e4176422",
          "locked": true,
          "schema_version": 3,
          "solution": false,
          "task": false
        },
        "id": "392a1da2"
      },
      "source": [
        "### Congratulations! \n",
        "\n",
        "### You complete the fourth laboratory. \n",
        "\n",
        "### Please save your file and save it (push/commit changes) in GitHub in Lab 4. "
      ],
      "id": "392a1da2"
    }
  ]
}